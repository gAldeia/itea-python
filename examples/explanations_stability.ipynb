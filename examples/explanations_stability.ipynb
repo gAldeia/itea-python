{
 "cells": [
  {
   "cell_type": "markdown",
   "id": "760fb84a",
   "metadata": {},
   "source": [
    "# Explanations Stability\n",
    "\n",
    "In this notebook, we will explore how to calculate the stability of a local explanation for the Partial Effects explainer. We'll first start creating a classifier and fitting it with the iris data set. Then, we'll define the stability metric function and see how stable are the explanations.\n",
    "\n",
    "This example was inspired by the usage of the stability metric in _Plumb, Gregory, Maruan, Al-Shedivat, Ángel Alexander, Cabrera, Adam, Perer, Eric, Xing, and Ameet, Talwalkar. \"Regularizing Black-box Models for Improved Interpretability.\" . Advances in Neural Information Processing Systems (pp. 10526–10536). Curran Associates, Inc., 2020._"
   ]
  },
  {
   "cell_type": "code",
   "execution_count": 1,
   "id": "dd75b3fc",
   "metadata": {},
   "outputs": [],
   "source": [
    "import numpy  as np\n",
    "import pandas as pd\n",
    "\n",
    "# automatically differentiable implementation of numpy\n",
    "import jax.numpy as jnp\n",
    "\n",
    "from sklearn import datasets\n",
    "from sklearn.metrics import classification_report\n",
    "\n",
    "from sklearn.model_selection import train_test_split\n",
    "from IPython.display         import display, Math, Latex\n",
    "\n",
    "import matplotlib.pyplot as plt\n",
    "\n",
    "from itea.classification import ITEA_classifier\n",
    "from itea.inspection     import *\n",
    "\n",
    "import warnings; warnings.filterwarnings('ignore')"
   ]
  },
  {
   "cell_type": "markdown",
   "id": "0722b572",
   "metadata": {},
   "source": [
    "Let us start by loading the data set and fitting a simple classifier. Latter, the classifier will be used to explain a single instance and the stability of the explanation will be calculated for different sizes of neighborhoods."
   ]
  },
  {
   "cell_type": "code",
   "execution_count": 2,
   "id": "efbd78e4",
   "metadata": {},
   "outputs": [
    {
     "name": "stdout",
     "output_type": "stream",
     "text": [
      "gen \t min_fitness \t mean_fitness \t max_fitness \t remaining (s)\n",
      "0 \t 0.56 \t 0.8482 \t 0.97 \t 0min17seg\n",
      "5 \t 0.74 \t 0.9617999999999999 \t 0.98 \t 0min12seg\n",
      "10 \t 0.79 \t 0.9693999999999999 \t 0.99 \t 0min14seg\n",
      "15 \t 0.95 \t 0.9822 \t 0.99 \t 0min10seg\n",
      "20 \t 0.89 \t 0.9822 \t 0.99 \t 0min11seg\n",
      "25 \t 0.86 \t 0.9824 \t 0.99 \t 0min9seg\n",
      "30 \t 0.93 \t 0.9818000000000001 \t 0.99 \t 0min6seg\n",
      "35 \t 0.96 \t 0.9826000000000001 \t 0.99 \t 0min5seg\n",
      "40 \t 0.94 \t 0.9816000000000001 \t 0.99 \t 0min3seg\n",
      "45 \t 0.66 \t 0.9738 \t 0.99 \t 0min1seg\n"
     ]
    }
   ],
   "source": [
    "iris_data = datasets.load_iris()\n",
    "X, y      = iris_data['data'], iris_data['target']\n",
    "labels    = iris_data['feature_names']\n",
    "targets   = iris_data['target_names']\n",
    "\n",
    "# changing numbers to the class names\n",
    "y_targets = [targets[yi] for yi in y]\n",
    "\n",
    "X_train, X_test, y_train, y_test = train_test_split(\n",
    "    X, y_targets, test_size=0.33, random_state=42)\n",
    "\n",
    "# Creating transformation functions for ITEA using jax.numpy\n",
    "# (so we don't need to analytically calculate its derivatives)\n",
    "tfuncs = {\n",
    "    'id'       : lambda x: x,\n",
    "    'sqrt.abs' : lambda x: jnp.sqrt(jnp.abs(x)), \n",
    "    'log'      : jnp.log,\n",
    "    'exp'      : jnp.exp\n",
    "}\n",
    "\n",
    "clf = ITEA_classifier(\n",
    "    gens            = 50,\n",
    "    popsize         = 50,\n",
    "    max_terms       = 2,\n",
    "    expolim         = (-1, 1),\n",
    "    verbose         = 5,\n",
    "    tfuncs          = tfuncs,\n",
    "    labels          = labels,\n",
    "    simplify_method = 'simplify_by_var',\n",
    "    random_state    = 42,\n",
    ").fit(X_train, y_train)"
   ]
  },
  {
   "cell_type": "markdown",
   "id": "d66374e5",
   "metadata": {},
   "source": [
    "## Local explanations with the Partial Effects\n",
    "\n",
    "To calculate the local explanations, we can use the function ``ITExpr_explainer.average_partial_effects``, passing as an argument a single sample we want to explain.\n",
    "\n",
    "We can see the explanation both visually or as an array with the importance for each feature.\n",
    "\n",
    "Let's start by creating an explainer instance.\n",
    "\n",
    "**NOTE**: In the remaining of this notebook, all local explanations will be calculated over the first element of the test set."
   ]
  },
  {
   "cell_type": "code",
   "execution_count": 3,
   "id": "6eeb7667",
   "metadata": {},
   "outputs": [],
   "source": [
    "explainer = ITExpr_explainer(\n",
    "    itexpr=clf.bestsol_,\n",
    "    tfuncs=tfuncs\n",
    ").fit(X_train, y_train)"
   ]
  },
  {
   "cell_type": "markdown",
   "id": "c367859c",
   "metadata": {},
   "source": [
    "The visual inspection of feature importances can be useful in some cases:\n",
    "* The features are ordered by the most important to the least important feature;\n",
    "* The proportions between feature importances allows having a more clear understanding about its magnitudes;\n",
    "* We can see how much each class is using each feature to make its classification.\n",
    "\n",
    "It is important to notice that the prediction of the model is based on the class with the highest probability from the decision function. The decision function is a logit function using the IT expression as its linear model."
   ]
  },
  {
   "cell_type": "code",
   "execution_count": 4,
   "id": "cdd10d78",
   "metadata": {},
   "outputs": [
    {
     "data": {
      "image/png": "[encoded data removed]",
      "text/plain": [
       "<Figure size 432x288 with 1 Axes>"
      ]
     },
     "metadata": {
      "needs_background": "light"
     },
     "output_type": "display_data"
    }
   ],
   "source": [
    "explainer.plot_feature_importances(\n",
    "    X = X_test[0, :].reshape(1, -1),\n",
    "    importance_method = 'pe',\n",
    "    grouping_threshold = 0.0,\n",
    "    target = None,\n",
    "    barh_kw = {'edgecolor' : 'k'},\n",
    "    show = True\n",
    ")"
   ]
  },
  {
   "cell_type": "markdown",
   "id": "950354b9",
   "metadata": {},
   "source": [
    "We can use the ``average_partial_effects`` directly to obtain an array with numeric explanations, making it easy to manipulate the values to assess stabilities."
   ]
  },
  {
   "cell_type": "code",
   "execution_count": 5,
   "id": "3c3ea1c1",
   "metadata": {},
   "outputs": [
    {
     "data": {
      "text/plain": [
       "array([[6.85112219e-03, 5.00492617e-02, 4.76003440e-02, 1.51608147e-01],\n",
       "       [2.74413002e-04, 3.40860669e-03, 1.31835324e-03, 6.55848291e-03],\n",
       "       [1.03778588e-01, 6.74201575e-01, 6.71034697e-01, 2.10067814e+00]])"
      ]
     },
     "execution_count": 5,
     "metadata": {},
     "output_type": "execute_result"
    }
   ],
   "source": [
    "explainer.average_partial_effects(X_test[0, :].reshape(1, -1))"
   ]
  },
  {
   "cell_type": "markdown",
   "id": "5b951658",
   "metadata": {},
   "source": [
    "The function returns an array, where each line corresponds to the importance for each class. As we can see from the bar plot, the total importance for a given feature is the summation of the importance for each class:"
   ]
  },
  {
   "cell_type": "code",
   "execution_count": 6,
   "id": "54d685d3",
   "metadata": {},
   "outputs": [
    {
     "data": {
      "text/plain": [
       "array([0.11090412, 0.72765944, 0.71995339, 2.25884477])"
      ]
     },
     "execution_count": 6,
     "metadata": {},
     "output_type": "execute_result"
    }
   ],
   "source": [
    "np.sum(\n",
    "    explainer.average_partial_effects(X_test[0, :].reshape(1, -1)),\n",
    "    axis=0\n",
    ")"
   ]
  },
  {
   "cell_type": "markdown",
   "id": "95424fe5",
   "metadata": {},
   "source": [
    "## Stability of an explanation\n",
    "\n",
    "In the mentioned paper, the authors discuss metrics to evaluate model agnostic explainers.\n",
    "\n",
    "The stability measures how much the explanation changes when the feature slightly changes, where lower values are better. Higher values imply that, when the feature being explained changes in a small proportion, the feature importances responds in a much larger proportion, then the explainer is not reliable since it is not locally stable, and cannot be trusted for the given instance.\n",
    "\n",
    "Let $f:\\mathbf{x} \\rightarrow y$, with $\\mathbf{x} = \\{x_0, x_1, ..., x_n\\}$ be a model we want to explain, and $g: (f, \\mathbf{x}_i) \\rightarrow \\mathbf{e}$ a explainer that takes a model and a instance to explain and attributes one feature importance for each $x \\in \\mathbf{x}_i$. \n",
    "\n",
    "The stability of the explanation is calculated by:\n",
    "\n",
    "$$S(f, g, \\mathbf{x}_i, \\mathbf{N}_{\\mathbf{x}_i}) = \\mathbb{E}_{\\mathbf{x}_j \\sim \\mathbf{N}_{\\mathbf{x}_i}} \\left [ || g(\\mathbf{x}_i, f) - g(\\mathbf{x}_j, f)||_{2}^{2} \\right ].$$\n",
    "\n",
    "In other words, the stability function evaluates the mean distance between the explanation for the original input and all sampled neighbors."
   ]
  },
  {
   "cell_type": "code",
   "execution_count": 7,
   "id": "cb609adc",
   "metadata": {},
   "outputs": [],
   "source": [
    "def explain_single(x):\n",
    "    \"\"\"wrapping the process to explain a single instance.\n",
    "    \n",
    "    The input x should be a single observation of shape (n_features, ).\n",
    "    \"\"\"\n",
    "    \n",
    "    return np.sum(\n",
    "        explainer.average_partial_effects(x.reshape(1, -1)),\n",
    "        axis=0\n",
    "    )\n",
    "\n",
    "\n",
    "def norm_p2(vector):\n",
    "    \"\"\"p2 norm of a vector.\n",
    "    \n",
    "    the vector should be an array of shape (n, ).\n",
    "    \"\"\"\n",
    "    \n",
    "    return np.sqrt(np.sum(np.abs(np.power(vector, 2))))\n",
    "\n",
    "\n",
    "def stability(explainer, x, neighborhood):\n",
    "    \"\"\"Stability function.\n",
    "    \n",
    "    Takes as argument an explanation method, a single observation\n",
    "    x of shape (n_features, ), and the neighborhood as a matrix of\n",
    "    shape (n_neighbors, n_features), where each line is a sampled\n",
    "    neighbor and each column is the feature value of the sample.\n",
    "    \n",
    "    Returns the mean squared p2-norm of the difference between the\n",
    "    original explanation and every sampled neighbor.\n",
    "    \"\"\"\n",
    "    \n",
    "    original_explanation = explainer(x)\n",
    "    return np.nanmean([\n",
    "        norm_p2(explainer(nb) - original_explanation)**2\n",
    "        for nb in neighborhood\n",
    "    ])\n",
    "        \n",
    "    \n",
    "def neighborhood(x, factor, size=100):\n",
    "    \"\"\"Method to create samples around a given observation x.\n",
    "    \n",
    "    This method uses a multivariate normal distribution to \n",
    "    randomly select feature values. The sigma of the distribution\n",
    "    is calculated over the training data to mimic the original\n",
    "    distributions and a scaling factor is multiplied to \n",
    "    adjust how large will be the neighborhood.\n",
    "    \n",
    "    It is possible to specify the number of generated samples\n",
    "    by setting the size to a different value (default=100).\n",
    "    \n",
    "    Returns a matrix of shape (size, n_features) containing\n",
    "    the sampled neighbors.\n",
    "    \"\"\"\n",
    "    \n",
    "    cov = np.cov(X_train.T)\n",
    "\n",
    "    return np.random.multivariate_normal(x, cov*factor, size=size)"
   ]
  },
  {
   "cell_type": "code",
   "execution_count": 8,
   "id": "cf2fc761",
   "metadata": {},
   "outputs": [
    {
     "data": {
      "text/plain": [
       "0.0045027336123055275"
      ]
     },
     "execution_count": 8,
     "metadata": {},
     "output_type": "execute_result"
    }
   ],
   "source": [
    "stability(\n",
    "    explain_single,\n",
    "    X_test[0],\n",
    "    neighborhood(X_test[0], 0.001)\n",
    ")"
   ]
  },
  {
   "cell_type": "markdown",
   "id": "e8469106",
   "metadata": {},
   "source": [
    "## Increasing the neighborhood to measure stability\n",
    "\n",
    "In the original work, the authors used fixed values for creating the neighborhood to evaluate stability.\n",
    "\n",
    "I think this can be limiting in some situations. To verify, we will evaluate how stability changes when we increase the size of the neighborhood."
   ]
  },
  {
   "cell_type": "code",
   "execution_count": 9,
   "id": "83eb27cb",
   "metadata": {},
   "outputs": [
    {
     "data": {
      "image/png": "[encoded data removed]",
      "text/plain": [
       "<Figure size 576x288 with 1 Axes>"
      ]
     },
     "metadata": {
      "needs_background": "light"
     },
     "output_type": "display_data"
    }
   ],
   "source": [
    "fig, axs = plt.subplots(1, 1, figsize=(8,4))\n",
    "\n",
    "factors = np.linspace(0.001, 1, 100)\n",
    "\n",
    "axs.plot(\n",
    "    factors,\n",
    "    [stability(\n",
    "        explain_single,\n",
    "        X_test[0],\n",
    "        neighborhood(X_test[0], factor, size=20)\n",
    "    ) for factor in factors]\n",
    ")\n",
    "\n",
    "axs.set_title(\"Stability of explanation (smaller is better)\")\n",
    "axs.set_ylabel(\"Stability\")\n",
    "axs.set_xlabel(\"Multiplying factor\")\n",
    "\n",
    "plt.show()"
   ]
  },
  {
   "cell_type": "markdown",
   "id": "3a1d7171",
   "metadata": {},
   "source": [
    "## The Jaccard Index\n",
    "\n",
    "In _Zhengze Zhou, Giles Hooker, Fei Wang. \"S-LIME: Stabilized-LIME for Model Explanation\".\tIn Proceedings of the 27th ACM SIGKDD Conference on Knowledge Discovery and Data Mining (KDD '21), August 14--18, 2021, Virtual Event, Singapore_, the authors used the Jaccrd index to evaluate the stability of a function.\n",
    "\n",
    "$$J(A, B) = \\frac{|A \\cap B|}{|A \\cup B|}.$$\n",
    "\n",
    "This method ignores ordering, and is only concerned if the most important features will always be the same. Values close to 1 means that the algorithm is stable accros different iterations.\n",
    "\n",
    "The Jaccard index is the ratio of the intersection over the union of two data sets. In the paper, to evaluate the stability for aa given test instance $t$, they:\n",
    "1. Execute the explanation method 20 times;\n",
    "2. Saved the $k$ most important features (with $k=\\{1, 2, 3, 4, 5\\}$);\n",
    "3. For each value of $k_i$, the $k_i$ most important features for each execution were used to calculate the Jaccard index across all possible pairs (20*19 pairs), then the average was reported.\n",
    "\n",
    "Their result look like this:\n",
    "\n",
    "| k | Jaccard Index for the method |\n",
    "|---|:----------------------------:|\n",
    "| 1 |             1.0              |\n",
    "| 2 |             0.2              |\n",
    "| 3 |             0.8              |\n",
    "| 4 |             0.7              |\n",
    "| 5 |             0.0              |\n",
    "\n",
    "\n",
    "### Adaptating the Jaccard Index\n",
    "\n",
    "In the cell below the Jaccard Index is used to evaluate stability, but since the Partial Effects explanation method is deterministic, the calculation will be performed on the neighborhood of the test point. We can use ``explain_single`` and ``neighborhood`` functions previously declared."
   ]
  },
  {
   "cell_type": "code",
   "execution_count": 10,
   "id": "154e3d22",
   "metadata": {},
   "outputs": [],
   "source": [
    "def jaccard_index(A, B):\n",
    "    \"\"\"Method to calculate the ratio of the intersection\n",
    "    over the union of two sets. This is known as Jaccard\n",
    "    index and ranges from 0 to 1, measuring how simmilar\n",
    "    the two sets are. A value equals to 1 means that the \n",
    "    sets are identical (remembering that sets does not\n",
    "    have order relations between its elements), and a \n",
    "    value equals to 0 means that they are completely\n",
    "    different. \n",
    "    \n",
    "    Takes as argument two python built-in sets A and B.\n",
    "    \n",
    "    Returns a float number representing the Jaccard Index.\n",
    "    \"\"\"\n",
    "    \n",
    "    return len(A.intersection(B)) / len(A.union(B))\n",
    "\n",
    "\n",
    "def get_k_most_important(explanation, k):\n",
    "    \"\"\"Method that takes an array of explanation and \n",
    "    returns the index of the k most important (highest)\n",
    "    values in the array.\n",
    "    \n",
    "    Takes an array of explanations of shape (n_features, )\n",
    "    and an integer k representing the size of the subset,\n",
    "    k <= len(explanations).\n",
    "    \n",
    "    Returns a python built-in set containing the indexes\n",
    "    of the k highest values.\n",
    "    \"\"\"\n",
    "    \n",
    "    # Reversing the order so its in descending order\n",
    "    order = np.argsort(explanation)[::-1]\n",
    "\n",
    "    \n",
    "    return set(order[:k])\n",
    "    \n",
    "\n",
    "def jaccard_stability(explainer, x, neighborhood, k):\n",
    "    \"\"\"Jaccard adaptation Stability function.\n",
    "    \n",
    "    Takes as argument an explanation method, a single observation\n",
    "    x of shape (n_features, ), the neighborhood as a matrix of\n",
    "    shape (n_neighbors, n_features), and the size of the subset being\n",
    "    considered k\n",
    "    \n",
    "    Returns the mean Jaccard Index between the original sample\n",
    "    and all neighbors, considering how similar the k most important\n",
    "    subset of features between the explanation of the original data\n",
    "    and its neighbors.\n",
    "    \"\"\"\n",
    "    \n",
    "    original_explanation = explainer(x)\n",
    "    original_jaccard_set = get_k_most_important(original_explanation, k)\n",
    "    \n",
    "    return np.nanmean([\n",
    "        jaccard_index(\n",
    "            get_k_most_important(explainer(nb), k),\n",
    "            original_jaccard_set\n",
    "        )\n",
    "        for nb in neighborhood\n",
    "    ])"
   ]
  },
  {
   "cell_type": "markdown",
   "id": "69239668",
   "metadata": {},
   "source": [
    "In te cell below we create a table similar to the one reported in the S-LIME paper. For different multiplication factors that adjusts the size of the neighborhood, we can see how stable the explanations are in terms of returning the same most important features.\n",
    "\n",
    "Notice that the maximum number of features is 4."
   ]
  },
  {
   "cell_type": "code",
   "execution_count": 11,
   "id": "6aa92aa3",
   "metadata": {},
   "outputs": [
    {
     "data": {
      "text/html": [
       "<div>\n",
       "<style scoped>\n",
       "    .dataframe tbody tr th:only-of-type {\n",
       "        vertical-align: middle;\n",
       "    }\n",
       "\n",
       "    .dataframe tbody tr th {\n",
       "        vertical-align: top;\n",
       "    }\n",
       "\n",
       "    .dataframe thead th {\n",
       "        text-align: right;\n",
       "    }\n",
       "</style>\n",
       "<table border=\"1\" class=\"dataframe\">\n",
       "  <thead>\n",
       "    <tr style=\"text-align: right;\">\n",
       "      <th></th>\n",
       "      <th>k=1</th>\n",
       "      <th>k=2</th>\n",
       "      <th>k=3</th>\n",
       "      <th>k=4</th>\n",
       "    </tr>\n",
       "  </thead>\n",
       "  <tbody>\n",
       "    <tr>\n",
       "      <th>factor 0.001</th>\n",
       "      <td>1.00</td>\n",
       "      <td>0.733333</td>\n",
       "      <td>1.000</td>\n",
       "      <td>1.0</td>\n",
       "    </tr>\n",
       "    <tr>\n",
       "      <th>factor 0.01</th>\n",
       "      <td>1.00</td>\n",
       "      <td>0.646667</td>\n",
       "      <td>1.000</td>\n",
       "      <td>1.0</td>\n",
       "    </tr>\n",
       "    <tr>\n",
       "      <th>factor 0.1</th>\n",
       "      <td>1.00</td>\n",
       "      <td>0.646667</td>\n",
       "      <td>1.000</td>\n",
       "      <td>1.0</td>\n",
       "    </tr>\n",
       "    <tr>\n",
       "      <th>factor 1.0</th>\n",
       "      <td>0.93</td>\n",
       "      <td>0.720000</td>\n",
       "      <td>0.955</td>\n",
       "      <td>1.0</td>\n",
       "    </tr>\n",
       "  </tbody>\n",
       "</table>\n",
       "</div>"
      ],
      "text/plain": [
       "               k=1       k=2    k=3  k=4\n",
       "factor 0.001  1.00  0.733333  1.000  1.0\n",
       "factor 0.01   1.00  0.646667  1.000  1.0\n",
       "factor 0.1    1.00  0.646667  1.000  1.0\n",
       "factor 1.0    0.93  0.720000  0.955  1.0"
      ]
     },
     "metadata": {},
     "output_type": "display_data"
    }
   ],
   "source": [
    "ks = [1, 2, 3, 4]\n",
    "fs = [0.001, 0.01, 0.1, 1.0]\n",
    "\n",
    "jaccard_df = pd.DataFrame(\n",
    "    data   = [[jaccard_stability(explain_single, X_test[0], neighborhood(X_test[0], f, size=100), k=k)\n",
    "              for k in ks] for f in fs],\n",
    "    index   = [f'factor {f}' for f in fs],\n",
    "    columns = [f'k={k}' for k in ks]\n",
    ")\n",
    "\n",
    "display(jaccard_df)"
   ]
  }
 ],
 "metadata": {
  "kernelspec": {
   "display_name": "Python 3",
   "language": "python",
   "name": "python3"
  },
  "language_info": {
   "codemirror_mode": {
    "name": "ipython",
    "version": 3
   },
   "file_extension": ".py",
   "mimetype": "text/x-python",
   "name": "python",
   "nbconvert_exporter": "python",
   "pygments_lexer": "ipython3",
   "version": "3.7.6"
  }
 },
 "nbformat": 4,
 "nbformat_minor": 5
}
