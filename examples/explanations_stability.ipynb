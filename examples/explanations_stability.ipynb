{
 "cells": [
  {
   "cell_type": "markdown",
   "id": "760fb84a",
   "metadata": {},
   "source": [
    "# Explanations Stability\n",
    "\n",
    "In this notebook, we will explore how to calculate the stability of a local explanation for the Partial Effects explainer. We'll first start creating a classifier and fitting it with the iris data set. Then, we'll define the stability metric function and see how stable are the explanations.\n",
    "\n",
    "This example was inspired by the usage of the stability metric in _Plumb, Gregory, Maruan, Al-Shedivat, Ángel Alexander, Cabrera, Adam, Perer, Eric, Xing, and Ameet, Talwalkar. \"Regularizing Black-box Models for Improved Interpretability.\" . Advances in Neural Information Processing Systems (pp. 10526–10536). Curran Associates, Inc., 2020._"
   ]
  },
  {
   "cell_type": "code",
   "execution_count": 1,
   "id": "dd75b3fc",
   "metadata": {},
   "outputs": [],
   "source": [
    "import numpy  as np\n",
    "import pandas as pd\n",
    "\n",
    "# automatically differentiable implementation of numpy\n",
    "import jax.numpy as jnp\n",
    "\n",
    "from sklearn import datasets\n",
    "from sklearn.metrics import classification_report\n",
    "\n",
    "from sklearn.model_selection import train_test_split\n",
    "from IPython.display         import display, Math, Latex\n",
    "\n",
    "import matplotlib.pyplot as plt\n",
    "\n",
    "from itea.classification import ITEA_classifier\n",
    "from itea.inspection     import *\n",
    "\n",
    "import warnings; warnings.filterwarnings('ignore')"
   ]
  },
  {
   "cell_type": "markdown",
   "id": "0722b572",
   "metadata": {},
   "source": [
    "Let us start by loading the data set and fitting a simple classifier. Latter, the classifier will be used to explain a single instance and the stability of the explanation will be calculated for different sizes of neighborhoods."
   ]
  },
  {
   "cell_type": "code",
   "execution_count": 2,
   "id": "efbd78e4",
   "metadata": {},
   "outputs": [
    {
     "name": "stdout",
     "output_type": "stream",
     "text": [
      "gen \t min_fitness \t mean_fitness \t max_fitness \t remaining (s)\n",
      "0 \t 0.56 \t 0.8493999999999999 \t 0.97 \t 0min17seg\n",
      "5 \t 0.74 \t 0.9617999999999999 \t 0.98 \t 0min13seg\n",
      "10 \t 0.79 \t 0.9693999999999999 \t 0.99 \t 0min12seg\n",
      "15 \t 0.96 \t 0.9815999999999999 \t 0.99 \t 0min8seg\n",
      "20 \t 0.88 \t 0.9797999999999999 \t 0.99 \t 0min7seg\n",
      "25 \t 0.87 \t 0.9812000000000002 \t 0.99 \t 0min7seg\n",
      "30 \t 0.86 \t 0.9788 \t 0.99 \t 0min6seg\n",
      "35 \t 0.85 \t 0.98 \t 0.99 \t 0min4seg\n",
      "40 \t 0.93 \t 0.9762 \t 0.99 \t 0min3seg\n",
      "45 \t 0.95 \t 0.9801999999999998 \t 0.99 \t 0min1seg\n"
     ]
    }
   ],
   "source": [
    "iris_data = datasets.load_iris()\n",
    "X, y      = iris_data['data'], iris_data['target']\n",
    "labels    = iris_data['feature_names']\n",
    "targets   = iris_data['target_names']\n",
    "\n",
    "# changing numbers to the class names\n",
    "y_targets = [targets[yi] for yi in y]\n",
    "\n",
    "X_train, X_test, y_train, y_test = train_test_split(\n",
    "    X, y_targets, test_size=0.33, random_state=42)\n",
    "\n",
    "# Creating transformation functions for ITEA using jax.numpy\n",
    "# (so we don't need to analytically calculate its derivatives)\n",
    "tfuncs = {\n",
    "    'id'       : lambda x: x,\n",
    "    'sqrt.abs' : lambda x: jnp.sqrt(jnp.abs(x)), \n",
    "    'log'      : jnp.log,\n",
    "    'exp'      : jnp.exp\n",
    "}\n",
    "\n",
    "clf = ITEA_classifier(\n",
    "    gens            = 50,\n",
    "    popsize         = 50,\n",
    "    max_terms       = 2,\n",
    "    expolim         = (-1, 1),\n",
    "    verbose         = 5,\n",
    "    tfuncs          = tfuncs,\n",
    "    labels          = labels,\n",
    "    simplify_method = 'simplify_by_var',\n",
    "    random_state    = 42,\n",
    ").fit(X_train, y_train)"
   ]
  },
  {
   "cell_type": "markdown",
   "id": "d66374e5",
   "metadata": {},
   "source": [
    "## Local explanations with the Partial Effects\n",
    "\n",
    "To calculate the local explanations, we can use the function ``ITExpr_explainer.average_partial_effects``, passing as an argument a single sample we want to explain.\n",
    "\n",
    "We can see the explanation both visually or as an array with the importance for each feature.\n",
    "\n",
    "Let's start by creating an explainer instance."
   ]
  },
  {
   "cell_type": "code",
   "execution_count": 3,
   "id": "6eeb7667",
   "metadata": {},
   "outputs": [],
   "source": [
    "explainer = ITExpr_explainer(\n",
    "    itexpr=clf.bestsol_,\n",
    "    tfuncs=tfuncs\n",
    ").fit(X_train, y_train)"
   ]
  },
  {
   "cell_type": "markdown",
   "id": "c367859c",
   "metadata": {},
   "source": [
    "The visual inspection of feature importances can be useful in some cases:\n",
    "* The features are ordered by the most important to the least important feature;\n",
    "* The proportions between feature importances allows having a more clear understanding about its magnitudes;\n",
    "* We can see how much each class is using each feature to make its classification.\n",
    "\n",
    "It is important to notice that the prediction of the model is based on the class with the highest probability from the decision function. The decision function is a logit function using the IT expression as its linear model."
   ]
  },
  {
   "cell_type": "code",
   "execution_count": 4,
   "id": "cdd10d78",
   "metadata": {},
   "outputs": [
    {
     "data": {
      "image/png": "[encoded data removed]",
      "text/plain": [
       "<Figure size 432x288 with 1 Axes>"
      ]
     },
     "metadata": {
      "needs_background": "light"
     },
     "output_type": "display_data"
    }
   ],
   "source": [
    "explainer.plot_feature_importances(\n",
    "    X = X_test[0, :].reshape(1, -1),\n",
    "    importance_method = 'pe',\n",
    "    grouping_threshold = 0.0,\n",
    "    target = None,\n",
    "    barh_kw = {'edgecolor' : 'k'},\n",
    "    show = True\n",
    ")"
   ]
  },
  {
   "cell_type": "markdown",
   "id": "950354b9",
   "metadata": {},
   "source": [
    "We can use the ``average_partial_effects`` directly to obtain an array with numeric explanations, making it easy to manipulate the values to assess stabilities."
   ]
  },
  {
   "cell_type": "code",
   "execution_count": 5,
   "id": "3c3ea1c1",
   "metadata": {},
   "outputs": [
    {
     "data": {
      "text/plain": [
       "array([[6.86847430e-03, 4.99322064e-02, 4.75756506e-02, 1.51423224e-01],\n",
       "       [2.48057964e-04, 3.30272158e-03, 1.32368369e-03, 6.44538908e-03],\n",
       "       [1.03717849e-01, 6.74602804e-01, 6.71116064e-01, 2.10130558e+00]])"
      ]
     },
     "execution_count": 5,
     "metadata": {},
     "output_type": "execute_result"
    }
   ],
   "source": [
    "explainer.average_partial_effects(X_test[0, :].reshape(1, -1))"
   ]
  },
  {
   "cell_type": "markdown",
   "id": "5b951658",
   "metadata": {},
   "source": [
    "The function returns an array, where each line corresponds to the importance for each class. As we can see from the bar plot, the total importance for a given feature is the summation of the importance for each class:"
   ]
  },
  {
   "cell_type": "code",
   "execution_count": 6,
   "id": "54d685d3",
   "metadata": {},
   "outputs": [
    {
     "data": {
      "text/plain": [
       "array([0.11083438, 0.72783773, 0.7200154 , 2.2591742 ])"
      ]
     },
     "execution_count": 6,
     "metadata": {},
     "output_type": "execute_result"
    }
   ],
   "source": [
    "np.sum(\n",
    "    explainer.average_partial_effects(X_test[0, :].reshape(1, -1)),\n",
    "    axis=0\n",
    ")"
   ]
  },
  {
   "cell_type": "markdown",
   "id": "95424fe5",
   "metadata": {},
   "source": [
    "## Stability of an explanation\n",
    "\n",
    "In the mentioned paper, the authors discuss metrics to evaluate model agnostic explainers.\n",
    "\n",
    "The stability measures how much the explanation changes when the feature slightly changes, where lower values are better. Higher values imply that, when the feature being explained changes in a small proportion, the feature importances responds in a much larger proportion, then the explainer is not reliable since it is not locally stable, and cannot be trusted for the given instance.\n",
    "\n",
    "Let $f:\\mathbf{x} \\rightarrow y$, with $\\mathbf{x} = \\{x_0, x_1, ..., x_n\\}$ be a model we want to explain, and $g: (f, \\mathbf{x}_i) \\rightarrow \\mathbf{e}$ a explainer that takes a model and a instance to explain and attributes one feature importance for each $x \\in \\mathbf{x}_i$. \n",
    "\n",
    "The stability of the explanation is calculated by:\n",
    "\n",
    "$$S(f, g, \\mathbf{x}_i, \\mathbf{N}_{\\mathbf{x}_i}) = \\mathbb{E}_{\\mathbf{x}_j \\sim \\mathbf{N}_{\\mathbf{x}_i}} \\left [ || g(\\mathbf{x}_i, f) - g(\\mathbf{x}_j, f)||_{2}^{2} \\right ].$$\n",
    "\n",
    "In other words, the stability function evaluates the mean distance between the explanation for the original input and all sampled neighbors."
   ]
  },
  {
   "cell_type": "code",
   "execution_count": 7,
   "id": "cb609adc",
   "metadata": {},
   "outputs": [],
   "source": [
    "def explain_single(x):\n",
    "    \"\"\"wrapping the process to explain a single instance.\n",
    "    \n",
    "    The input x should be a single observation of shape (n_features, ).\n",
    "    \"\"\"\n",
    "    \n",
    "    return np.sum(\n",
    "        explainer.average_partial_effects(x.reshape(1, -1)),\n",
    "        axis=0\n",
    "    )\n",
    "\n",
    "\n",
    "def norm_p2(vector):\n",
    "    \"\"\"p2 norm of a vector.\n",
    "    \n",
    "    the vector should be an array of shape (n, ).\n",
    "    \"\"\"\n",
    "    \n",
    "    return np.sqrt(np.sum(np.abs(np.power(vector, 2))))\n",
    "\n",
    "\n",
    "def stability(explainer, x, neighborhood):\n",
    "    \"\"\"Stability function.\n",
    "    \n",
    "    Takes as argument an explanation method, a single observation\n",
    "    x of shape (n_features, ), and the neighborhood as a matrix of\n",
    "    shape (n_neighbors, n_features), where each line is a sampled\n",
    "    neighbor and each column is the feature value of the sample.\n",
    "    \n",
    "    Returns the mean squared p2-norm of the difference between the\n",
    "    original explanation and every sampled neighbor.\n",
    "    \"\"\"\n",
    "    \n",
    "    original_explanation = explainer(x)\n",
    "    return np.nanmean([\n",
    "        norm_p2(explainer(nb) - original_explanation)**2\n",
    "        for nb in neighborhood\n",
    "    ])\n",
    "        \n",
    "    \n",
    "def neighborhood(x, factor, size=100):\n",
    "    \"\"\"Method to create samples around a given observation x.\n",
    "    \n",
    "    This method uses a multivariate normal distribution to \n",
    "    randomly select feature values. The sigma of the distribution\n",
    "    is calculated over the training data to mimic the original\n",
    "    distributions and a scaling factor is multiplied to \n",
    "    adjust how large will be the neighborhood.\n",
    "    \n",
    "    It is possible to specify the number of generated samples\n",
    "    by setting the size to a different value (default=100).\n",
    "    \n",
    "    Returns a matrix of shape (size, n_features) containing\n",
    "    the sampled neighbors.\n",
    "    \"\"\"\n",
    "    \n",
    "    cov = np.cov(X_train.T)\n",
    "\n",
    "    return np.random.multivariate_normal(x, cov*factor, size=size)"
   ]
  },
  {
   "cell_type": "code",
   "execution_count": 8,
   "id": "cf2fc761",
   "metadata": {},
   "outputs": [
    {
     "data": {
      "text/plain": [
       "0.007993043171325421"
      ]
     },
     "execution_count": 8,
     "metadata": {},
     "output_type": "execute_result"
    }
   ],
   "source": [
    "stability(\n",
    "    explain_single,\n",
    "    X_test[0],\n",
    "    neighborhood(X_test[0], 0.001)\n",
    ")"
   ]
  },
  {
   "cell_type": "markdown",
   "id": "e8469106",
   "metadata": {},
   "source": [
    "## Increasing the neighborhood to measure stability\n",
    "\n",
    "In the original work, the authors used fixed values for creating the neighborhood to evaluate stability.\n",
    "\n",
    "I think this can be limiting in some situations. To verify, we will evaluate how stability changes when we increase the size of the neighborhood."
   ]
  },
  {
   "cell_type": "code",
   "execution_count": 9,
   "id": "83eb27cb",
   "metadata": {},
   "outputs": [
    {
     "data": {
      "image/png": "[encoded data removed]",
      "text/plain": [
       "<Figure size 576x288 with 1 Axes>"
      ]
     },
     "metadata": {
      "needs_background": "light"
     },
     "output_type": "display_data"
    }
   ],
   "source": [
    "fig, axs = plt.subplots(1, 1, figsize=(8,4))\n",
    "\n",
    "factors = np.linspace(0.001, 1, 100)\n",
    "\n",
    "axs.plot(\n",
    "    factors,\n",
    "    [stability(\n",
    "        explain_single,\n",
    "        X_test[0],\n",
    "        neighborhood(X_test[0], factor, size=20)\n",
    "    ) for factor in factors]\n",
    ")\n",
    "\n",
    "axs.set_title(\"Stability of explanation (smaller is better)\")\n",
    "axs.set_ylabel(\"Stability\")\n",
    "axs.set_xlabel(\"Multiplying factor\")\n",
    "\n",
    "plt.show()"
   ]
  }
 ],
 "metadata": {
  "kernelspec": {
   "display_name": "Python 3",
   "language": "python",
   "name": "python3"
  },
  "language_info": {
   "codemirror_mode": {
    "name": "ipython",
    "version": 3
   },
   "file_extension": ".py",
   "mimetype": "text/x-python",
   "name": "python",
   "nbconvert_exporter": "python",
   "pygments_lexer": "ipython3",
   "version": "3.7.6"
  }
 },
 "nbformat": 4,
 "nbformat_minor": 5
}
