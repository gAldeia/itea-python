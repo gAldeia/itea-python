{
 "cells": [
  {
   "cell_type": "markdown",
   "metadata": {},
   "source": [
    "# Interacting with ProtoDash"
   ]
  },
  {
   "cell_type": "markdown",
   "metadata": {},
   "source": [
    "In this notebook we'll combine the ProtoDash and the Partial Effects to obtain feature importances on the digits classifications task."
   ]
  },
  {
   "cell_type": "code",
   "execution_count": 1,
   "metadata": {},
   "outputs": [
    {
     "name": "stdout",
     "output_type": "stream",
     "text": [
      "The history saving thread hit an unexpected error (DatabaseError('database disk image is malformed')).History will not be written to the database.\n"
     ]
    },
    {
     "name": "stderr",
     "output_type": "stream",
     "text": [
      "In /home/galdeia/anaconda3/lib/python3.7/site-packages/matplotlib/mpl-data/stylelib/_classic_test.mplstyle: \n",
      "The text.latex.preview rcparam was deprecated in Matplotlib 3.3 and will be removed two minor releases later.\n",
      "In /home/galdeia/anaconda3/lib/python3.7/site-packages/matplotlib/mpl-data/stylelib/_classic_test.mplstyle: \n",
      "The mathtext.fallback_to_cm rcparam was deprecated in Matplotlib 3.3 and will be removed two minor releases later.\n",
      "In /home/galdeia/anaconda3/lib/python3.7/site-packages/matplotlib/mpl-data/stylelib/_classic_test.mplstyle: Support for setting the 'mathtext.fallback_to_cm' rcParam is deprecated since 3.3 and will be removed two minor releases later; use 'mathtext.fallback : 'cm' instead.\n",
      "In /home/galdeia/anaconda3/lib/python3.7/site-packages/matplotlib/mpl-data/stylelib/_classic_test.mplstyle: \n",
      "The validate_bool_maybe_none function was deprecated in Matplotlib 3.3 and will be removed two minor releases later.\n",
      "In /home/galdeia/anaconda3/lib/python3.7/site-packages/matplotlib/mpl-data/stylelib/_classic_test.mplstyle: \n",
      "The savefig.jpeg_quality rcparam was deprecated in Matplotlib 3.3 and will be removed two minor releases later.\n",
      "In /home/galdeia/anaconda3/lib/python3.7/site-packages/matplotlib/mpl-data/stylelib/_classic_test.mplstyle: \n",
      "The keymap.all_axes rcparam was deprecated in Matplotlib 3.3 and will be removed two minor releases later.\n",
      "In /home/galdeia/anaconda3/lib/python3.7/site-packages/matplotlib/mpl-data/stylelib/_classic_test.mplstyle: \n",
      "The animation.avconv_path rcparam was deprecated in Matplotlib 3.3 and will be removed two minor releases later.\n",
      "In /home/galdeia/anaconda3/lib/python3.7/site-packages/matplotlib/mpl-data/stylelib/_classic_test.mplstyle: \n",
      "The animation.avconv_args rcparam was deprecated in Matplotlib 3.3 and will be removed two minor releases later.\n"
     ]
    }
   ],
   "source": [
    "import numpy  as np\n",
    "import pandas as pd\n",
    "\n",
    "# automatically differentiable implementation of numpy\n",
    "import jax.numpy as jnp\n",
    "\n",
    "from sklearn import datasets\n",
    "\n",
    "from sklearn.model_selection import train_test_split\n",
    "from IPython.display         import display, Math, Latex\n",
    "\n",
    "import matplotlib.pyplot as plt\n",
    "\n",
    "from itea.classification import ITEA_classifier\n",
    "from itea.inspection     import *\n",
    "\n",
    "import warnings; warnings.filterwarnings('ignore')"
   ]
  },
  {
   "cell_type": "code",
   "execution_count": 2,
   "metadata": {},
   "outputs": [
    {
     "name": "stderr",
     "output_type": "stream",
     "text": [
      "ERROR:root:Internal Python error in the inspect module.\n",
      "Below is the traceback from this internal error.\n",
      "\n"
     ]
    },
    {
     "name": "stdout",
     "output_type": "stream",
     "text": [
      "Traceback (most recent call last):\n",
      "  File \"/home/galdeia/anaconda3/lib/python3.7/site-packages/IPython/core/interactiveshell.py\", line 3331, in run_code\n",
      "    exec(code_obj, self.user_global_ns, self.user_ns)\n",
      "  File \"<ipython-input-2-d4a9db446f24>\", line 31, in <module>\n",
      "    ).fit(X_train, y_train)\n",
      "  File \"/home/galdeia/anaconda3/lib/python3.7/site-packages/itea/classification/_ITEA_classifier.py\", line 177, in fit\n",
      "    X, y, self.itexpr_class, self.greater_is_better)\n",
      "  File \"/home/galdeia/anaconda3/lib/python3.7/site-packages/itea/_base/_BaseITEA.py\", line 300, in _evolve\n",
      "    random_state = random_state)\n",
      "  File \"/home/galdeia/anaconda3/lib/python3.7/site-packages/itea/_base/_BaseITEA.py\", line 212, in _create_population\n",
      "    itexpr.fit(X, y)\n",
      "  File \"/home/galdeia/anaconda3/lib/python3.7/site-packages/itea/classification/_ITExpr_classifier.py\", line 143, in fit\n",
      "    Z = self._eval(X)\n",
      "  File \"/home/galdeia/anaconda3/lib/python3.7/site-packages/itea/_base/_BaseITExpr.py\", line 178, in _eval\n",
      "    Z[:, i] = self.tfuncs[fi]( np.prod(np.power(X, ni), axis=1) )\n",
      "  File \"/home/galdeia/anaconda3/lib/python3.7/site-packages/jax/_src/numpy/lax_numpy.py\", line 404, in <lambda>\n",
      "    fn = lambda x: lax_fn(*_promote_args_inexact(numpy_fn.__name__, x))\n",
      "  File \"/home/galdeia/anaconda3/lib/python3.7/site-packages/jax/_src/numpy/lax_numpy.py\", line 330, in _promote_args_inexact\n",
      "    return _promote_shapes(fun_name, *_promote_dtypes_inexact(*args))\n",
      "  File \"/home/galdeia/anaconda3/lib/python3.7/site-packages/jax/_src/numpy/lax_numpy.py\", line 278, in _promote_dtypes_inexact\n",
      "    return [lax._convert_element_type(x, to_dtype_inexact, weak_type) for x in args]\n",
      "  File \"/home/galdeia/anaconda3/lib/python3.7/site-packages/jax/_src/numpy/lax_numpy.py\", line 278, in <listcomp>\n",
      "    return [lax._convert_element_type(x, to_dtype_inexact, weak_type) for x in args]\n",
      "  File \"/home/galdeia/anaconda3/lib/python3.7/site-packages/jax/_src/lax/lax.py\", line 455, in _convert_element_type\n",
      "    weak_type=new_weak_type)\n",
      "  File \"/home/galdeia/anaconda3/lib/python3.7/site-packages/jax/core.py\", line 264, in bind\n",
      "    out = top_trace.process_primitive(self, tracers, params)\n",
      "  File \"/home/galdeia/anaconda3/lib/python3.7/site-packages/jax/core.py\", line 606, in process_primitive\n",
      "    return primitive.impl(*tracers, **params)\n",
      "  File \"/home/galdeia/anaconda3/lib/python3.7/site-packages/jax/interpreters/xla.py\", line 231, in apply_primitive\n",
      "    compiled_fun = xla_primitive_callable(prim, *unsafe_map(arg_spec, args), **params)\n",
      "  File \"/home/galdeia/anaconda3/lib/python3.7/site-packages/jax/_src/util.py\", line 183, in wrapper\n",
      "    if config.jax_check_tracer_leaks:\n",
      "  File \"/home/galdeia/anaconda3/lib/python3.7/site-packages/jax/_src/config.py\", line 228, in get_state\n",
      "    return val if val is not unset else self._read(name)\n",
      "  File \"/home/galdeia/anaconda3/lib/python3.7/site-packages/jax/_src/config.py\", line 92, in _read\n",
      "    return self.values[name]\n",
      "KeyboardInterrupt\n",
      "\n",
      "During handling of the above exception, another exception occurred:\n",
      "\n",
      "Traceback (most recent call last):\n",
      "  File \"/home/galdeia/anaconda3/lib/python3.7/site-packages/IPython/core/interactiveshell.py\", line 2044, in showtraceback\n",
      "    stb = value._render_traceback_()\n",
      "AttributeError: 'KeyboardInterrupt' object has no attribute '_render_traceback_'\n",
      "\n",
      "During handling of the above exception, another exception occurred:\n",
      "\n",
      "Traceback (most recent call last):\n",
      "  File \"/home/galdeia/anaconda3/lib/python3.7/site-packages/IPython/core/ultratb.py\", line 1151, in get_records\n",
      "    return _fixed_getinnerframes(etb, number_of_lines_of_context, tb_offset)\n",
      "  File \"/home/galdeia/anaconda3/lib/python3.7/site-packages/IPython/core/ultratb.py\", line 319, in wrapped\n",
      "    return f(*args, **kwargs)\n",
      "  File \"/home/galdeia/anaconda3/lib/python3.7/site-packages/IPython/core/ultratb.py\", line 353, in _fixed_getinnerframes\n",
      "    records = fix_frame_records_filenames(inspect.getinnerframes(etb, context))\n",
      "  File \"/home/galdeia/anaconda3/lib/python3.7/inspect.py\", line 1502, in getinnerframes\n",
      "    frameinfo = (tb.tb_frame,) + getframeinfo(tb, context)\n",
      "  File \"/home/galdeia/anaconda3/lib/python3.7/inspect.py\", line 1460, in getframeinfo\n",
      "    filename = getsourcefile(frame) or getfile(frame)\n",
      "  File \"/home/galdeia/anaconda3/lib/python3.7/inspect.py\", line 696, in getsourcefile\n",
      "    if getattr(getmodule(object, filename), '__loader__', None) is not None:\n",
      "  File \"/home/galdeia/anaconda3/lib/python3.7/inspect.py\", line 742, in getmodule\n",
      "    os.path.realpath(f)] = module.__name__\n",
      "  File \"/home/galdeia/anaconda3/lib/python3.7/posixpath.py\", line 395, in realpath\n",
      "    path, ok = _joinrealpath(filename[:0], filename, {})\n",
      "  File \"/home/galdeia/anaconda3/lib/python3.7/posixpath.py\", line 429, in _joinrealpath\n",
      "    if not islink(newpath):\n",
      "  File \"/home/galdeia/anaconda3/lib/python3.7/posixpath.py\", line 171, in islink\n",
      "    st = os.lstat(path)\n",
      "KeyboardInterrupt\n"
     ]
    },
    {
     "ename": "KeyboardInterrupt",
     "evalue": "",
     "output_type": "error",
     "traceback": [
      "\u001b[0;31m---------------------------------------------------------------------------\u001b[0m"
     ]
    }
   ],
   "source": [
    "digits_data = datasets.load_digits(n_class=2)\n",
    "X, y        = digits_data['data'], digits_data['target']\n",
    "labels      = digits_data['feature_names']\n",
    "targets     = digits_data['target_names']\n",
    "\n",
    "\n",
    "X_train, X_test, y_train, y_test = train_test_split(\n",
    "    X, y, test_size=0.83, random_state=42)\n",
    "\n",
    "# Creating transformation functions for ITEA using jax.numpy\n",
    "# (so we don't need to analytically calculate its derivatives)\n",
    "tfuncs = {\n",
    "    'id'       : lambda x: x,\n",
    "    'sqrt.abs' : lambda x: jnp.sqrt(jnp.abs(x)), \n",
    "    'log'      : jnp.log,\n",
    "    'sin'      : jnp.sin,\n",
    "    'cos'      : jnp.cos,\n",
    "    'exp'      : jnp.exp\n",
    "}\n",
    "\n",
    "clf = ITEA_classifier(\n",
    "    gens            = 5,\n",
    "    popsize         = 1,\n",
    "    max_terms       = 5,\n",
    "    expolim         = (-1, -1),\n",
    "    verbose         = -1,\n",
    "    tfuncs          = tfuncs,\n",
    "    labels          = labels,\n",
    "    simplify_method = None,\n",
    "    random_state    = 42,\n",
    ").fit(X_train, y_train)"
   ]
  },
  {
   "cell_type": "code",
   "execution_count": null,
   "metadata": {},
   "outputs": [],
   "source": []
  }
 ],
 "metadata": {
  "kernelspec": {
   "display_name": "Python 3",
   "language": "python",
   "name": "python3"
  },
  "language_info": {
   "codemirror_mode": {
    "name": "ipython",
    "version": 3
   },
   "file_extension": ".py",
   "mimetype": "text/x-python",
   "name": "python",
   "nbconvert_exporter": "python",
   "pygments_lexer": "ipython3",
   "version": "3.7.6"
  }
 },
 "nbformat": 4,
 "nbformat_minor": 4
}
